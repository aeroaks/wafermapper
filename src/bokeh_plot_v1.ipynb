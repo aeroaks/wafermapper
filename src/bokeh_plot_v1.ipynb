{
 "cells": [
  {
   "cell_type": "code",
   "execution_count": 1,
   "metadata": {},
   "outputs": [],
   "source": [
    "import itertools\n",
    "\n",
    "from bokeh.plotting import figure, output_file, show\n",
    "from bokeh.models import ColumnDataSource, LabelSet\n",
    "from bokeh.models import HoverTool"
   ]
  },
  {
   "cell_type": "code",
   "execution_count": 2,
   "metadata": {},
   "outputs": [],
   "source": [
    "# figure units\n",
    "fig_size = (500, 500)\n",
    "# needs consistent units\n",
    "# Wafer data\n",
    "# width and heigth are calculated from the diameter\n",
    "dia = 7\n",
    "\n",
    "wafer_data = {\n",
    "    'names': ['WFR001',],\n",
    "    'name_x': [0,],\n",
    "    'name_y': [dia/2,],\n",
    "    'x': [0,],\n",
    "    'y': [0,],\n",
    "    'dia': [dia,],\n",
    "}\n",
    "wafer_source = ColumnDataSource(data=wafer_data)"
   ]
  },
  {
   "cell_type": "code",
   "execution_count": 3,
   "metadata": {},
   "outputs": [],
   "source": [
    "# cell position data from\n",
    "# x_coord, y_coord -> bottom left\n",
    "# x_size, y_size -> width and height\n",
    "# name, x, y, width, height\n",
    "# colour of heat map\n",
    "raw_data_1 = [['cell1', 2, 1, 0.8, 0.5], \n",
    "              ['cell2', -2, -1, 0.8, 0.5],]\n",
    "colour_1 = [\"#B3DE69\"] * 2\n",
    "\n",
    "raw_data_2 = [['cell4', -2, 1.5, 0.6, 0.6], \n",
    "              ['cell5', 2, -1.5, 0.6, 0.6],]\n",
    "colour_2 = [\"#A3AEAA\"] * 2\n",
    "\n",
    "raw_data_in = (raw_data_1, raw_data_2)\n",
    "colour_in = (colour_1, colour_2)"
   ]
  },
  {
   "cell_type": "code",
   "execution_count": 4,
   "metadata": {},
   "outputs": [],
   "source": [
    "cell_data = {\n",
    "    'names': [],\n",
    "    'name_x': [],\n",
    "    'name_y': [],\n",
    "    'top': [],\n",
    "    'bottom': [],\n",
    "    'left': [],\n",
    "    'right': [],\n",
    "    'colour': [],    \n",
    "}\n",
    "\n",
    "raw_data = list(itertools.chain(*raw_data_in))\n",
    "colour = list(itertools.chain(*colour_in))\n",
    "\n",
    "for i, r in enumerate(raw_data):\n",
    "  cell_data['names'].append(r[0])   \n",
    "  cell_data['name_x'].append(r[1] + r[4] / 2) \n",
    "  cell_data['name_y'].append(r[2] + r[3] / 2) \n",
    "  cell_data['top'].append(r[2] + r[4])   \n",
    "  cell_data['bottom'].append(r[2])   \n",
    "  cell_data['left'].append(r[1])   \n",
    "  cell_data['right'].append(r[1] + r[3])\n",
    "  cell_data['colour'].append(colour[i])\n",
    "\n",
    "# cell_data = {\n",
    "#     'top': [2, 3, 4],\n",
    "#     'bottom': [1, 2, 3],\n",
    "#     'left': [1, 2, 3],\n",
    "#     'right': [1.2, 2.5, 3.7],\n",
    "# }\n",
    "\n",
    "cell_source = ColumnDataSource(data=cell_data)"
   ]
  },
  {
   "cell_type": "code",
   "execution_count": 5,
   "metadata": {},
   "outputs": [
    {
     "data": {
      "text/html": [
       "<div style=\"display: table;\"><div style=\"display: table-row;\"><div style=\"display: table-cell;\"><b title=\"bokeh.models.renderers.GlyphRenderer\">GlyphRenderer</b>(</div><div style=\"display: table-cell;\">id&nbsp;=&nbsp;'b97e8025-7887-4c2e-8861-582ce3dd86e6', <span id=\"731667dd-3b6d-45c8-a50a-bf24fcfac89a\" style=\"cursor: pointer;\">&hellip;)</span></div></div><div class=\"164dd4a8-ddd7-4670-abec-0c39a2836f8b\" style=\"display: none;\"><div style=\"display: table-cell;\"></div><div style=\"display: table-cell;\">data_source&nbsp;=&nbsp;ColumnDataSource(id='e49af757-78a5-43b8-9284-d9ec54c13dca', ...),</div></div><div class=\"164dd4a8-ddd7-4670-abec-0c39a2836f8b\" style=\"display: none;\"><div style=\"display: table-cell;\"></div><div style=\"display: table-cell;\">glyph&nbsp;=&nbsp;Ellipse(id='ac7bef6a-9931-40f1-843b-9b6a8ce9609f', ...),</div></div><div class=\"164dd4a8-ddd7-4670-abec-0c39a2836f8b\" style=\"display: none;\"><div style=\"display: table-cell;\"></div><div style=\"display: table-cell;\">hover_glyph&nbsp;=&nbsp;None,</div></div><div class=\"164dd4a8-ddd7-4670-abec-0c39a2836f8b\" style=\"display: none;\"><div style=\"display: table-cell;\"></div><div style=\"display: table-cell;\">js_event_callbacks&nbsp;=&nbsp;{},</div></div><div class=\"164dd4a8-ddd7-4670-abec-0c39a2836f8b\" style=\"display: none;\"><div style=\"display: table-cell;\"></div><div style=\"display: table-cell;\">js_property_callbacks&nbsp;=&nbsp;{},</div></div><div class=\"164dd4a8-ddd7-4670-abec-0c39a2836f8b\" style=\"display: none;\"><div style=\"display: table-cell;\"></div><div style=\"display: table-cell;\">level&nbsp;=&nbsp;'glyph',</div></div><div class=\"164dd4a8-ddd7-4670-abec-0c39a2836f8b\" style=\"display: none;\"><div style=\"display: table-cell;\"></div><div style=\"display: table-cell;\">muted&nbsp;=&nbsp;False,</div></div><div class=\"164dd4a8-ddd7-4670-abec-0c39a2836f8b\" style=\"display: none;\"><div style=\"display: table-cell;\"></div><div style=\"display: table-cell;\">muted_glyph&nbsp;=&nbsp;None,</div></div><div class=\"164dd4a8-ddd7-4670-abec-0c39a2836f8b\" style=\"display: none;\"><div style=\"display: table-cell;\"></div><div style=\"display: table-cell;\">name&nbsp;=&nbsp;None,</div></div><div class=\"164dd4a8-ddd7-4670-abec-0c39a2836f8b\" style=\"display: none;\"><div style=\"display: table-cell;\"></div><div style=\"display: table-cell;\">nonselection_glyph&nbsp;=&nbsp;Ellipse(id='d9be1bd5-2de9-445e-b259-674a5ff76153', ...),</div></div><div class=\"164dd4a8-ddd7-4670-abec-0c39a2836f8b\" style=\"display: none;\"><div style=\"display: table-cell;\"></div><div style=\"display: table-cell;\">selection_glyph&nbsp;=&nbsp;None,</div></div><div class=\"164dd4a8-ddd7-4670-abec-0c39a2836f8b\" style=\"display: none;\"><div style=\"display: table-cell;\"></div><div style=\"display: table-cell;\">subscribed_events&nbsp;=&nbsp;[],</div></div><div class=\"164dd4a8-ddd7-4670-abec-0c39a2836f8b\" style=\"display: none;\"><div style=\"display: table-cell;\"></div><div style=\"display: table-cell;\">tags&nbsp;=&nbsp;[],</div></div><div class=\"164dd4a8-ddd7-4670-abec-0c39a2836f8b\" style=\"display: none;\"><div style=\"display: table-cell;\"></div><div style=\"display: table-cell;\">view&nbsp;=&nbsp;CDSView(id='ec1f42fa-3d1f-43d5-b9d8-04f05e6c1396', ...),</div></div><div class=\"164dd4a8-ddd7-4670-abec-0c39a2836f8b\" style=\"display: none;\"><div style=\"display: table-cell;\"></div><div style=\"display: table-cell;\">visible&nbsp;=&nbsp;True,</div></div><div class=\"164dd4a8-ddd7-4670-abec-0c39a2836f8b\" style=\"display: none;\"><div style=\"display: table-cell;\"></div><div style=\"display: table-cell;\">x_range_name&nbsp;=&nbsp;'default',</div></div><div class=\"164dd4a8-ddd7-4670-abec-0c39a2836f8b\" style=\"display: none;\"><div style=\"display: table-cell;\"></div><div style=\"display: table-cell;\">y_range_name&nbsp;=&nbsp;'default')</div></div></div>\n",
       "<script>\n",
       "(function() {\n",
       "  var expanded = false;\n",
       "  var ellipsis = document.getElementById(\"731667dd-3b6d-45c8-a50a-bf24fcfac89a\");\n",
       "  ellipsis.addEventListener(\"click\", function() {\n",
       "    var rows = document.getElementsByClassName(\"164dd4a8-ddd7-4670-abec-0c39a2836f8b\");\n",
       "    for (var i = 0; i < rows.length; i++) {\n",
       "      var el = rows[i];\n",
       "      el.style.display = expanded ? \"none\" : \"table-row\";\n",
       "    }\n",
       "    ellipsis.innerHTML = expanded ? \"&hellip;)\" : \"&lsaquo;&lsaquo;&lsaquo;\";\n",
       "    expanded = !expanded;\n",
       "  });\n",
       "})();\n",
       "</script>\n"
      ],
      "text/plain": [
       "GlyphRenderer(id='b97e8025-7887-4c2e-8861-582ce3dd86e6', ...)"
      ]
     },
     "execution_count": 5,
     "metadata": {},
     "output_type": "execute_result"
    }
   ],
   "source": [
    "# need to consolidate data into ona columndatasource\n",
    "# hover tooltip to show data for a given cell\n",
    "hover = HoverTool(tooltips=[\n",
    "    ('Name', '@names'),\n",
    "    ('X', '@left'),\n",
    "    ('Y', '@bottom'),\n",
    "])\n",
    "\n",
    "plot = figure(plot_width=fig_size[0], plot_height=[1], \n",
    "              tools=[hover])\n",
    "\n",
    "# center marker\n",
    "plot.cross(x='x', y='y', size=10,\n",
    "           color=\"#E6550D\", line_width=2, source=wafer_source)\n",
    "\n",
    "# wafer outline\n",
    "plot.ellipse(x='x', y='y', width='dia', height='dia',\n",
    "             color=\"#386CB0\", fill_color=None, line_width=2, source=wafer_source)"
   ]
  },
  {
   "cell_type": "code",
   "execution_count": 6,
   "metadata": {},
   "outputs": [],
   "source": [
    "# adding cells\n",
    "# plot.quad(top=cell_data['top'], bottom=cell_data['bottom'], \n",
    "#           left=cell_data['left'], right=cell_data['right'], \n",
    "#           color=\"#B3DE69\")\n",
    "\n",
    "# reference https://bokeh.pydata.org/en/latest/docs/reference/plotting.html#bokeh.plotting.figure.Figure.quad\n",
    "cell = plot.quad(top='top', bottom='bottom',\n",
    "                 left='left', right='right',\n",
    "                 fill_color='colour', \n",
    "                 source=cell_source)"
   ]
  },
  {
   "cell_type": "code",
   "execution_count": 7,
   "metadata": {},
   "outputs": [],
   "source": [
    "# reference http://bokeh.pydata.org/en/latest/docs/user_guide/annotations.html#labels\n",
    "wfr_label = LabelSet(x='name_x', y='name_y', text='names', level='glyph',\n",
    "                     source=wafer_source, render_mode='canvas')\n",
    "cell_labels = LabelSet(x='name_x', y='name_y', text='names', level='glyph',\n",
    "                       source=cell_source, render_mode='canvas')\n",
    "\n",
    "plot.add_layout(wfr_label)\n",
    "plot.add_layout(cell_labels)"
   ]
  },
  {
   "cell_type": "code",
   "execution_count": 8,
   "metadata": {},
   "outputs": [],
   "source": [
    "show(plot)"
   ]
  }
 ],
 "metadata": {
  "kernelspec": {
   "display_name": "Python 3",
   "language": "python",
   "name": "python3"
  },
  "language_info": {
   "codemirror_mode": {
    "name": "ipython",
    "version": 3
   },
   "file_extension": ".py",
   "mimetype": "text/x-python",
   "name": "python",
   "nbconvert_exporter": "python",
   "pygments_lexer": "ipython3",
   "version": "3.5.3"
  }
 },
 "nbformat": 4,
 "nbformat_minor": 2
}
